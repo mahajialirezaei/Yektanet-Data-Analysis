{
 "cells": [
  {
   "attachments": {},
   "cell_type": "markdown",
   "id": "ac1d21fa-520d-4a4c-9b26-7942fb833449",
   "metadata": {},
   "source": [
    "<h1 align=center style=\"line-height:200%;font-family:vazir;color:#0099cc\">\n",
    "<font face=\"vazirmatn\" color=\"#0099cc\">\n",
    "    یکتانت\n",
    "</font>\n",
    "</h1>\n",
    "\n",
    "<p dir=rtl style=\"direction: rtl;text-align: justify;line-height:200%;font-family:vazir;font-size:medium\">\n",
    "<font face=\"vazirmatn\" size=3>\n",
    "داده‌هایی که در این تمرین استفاده می‌کنیم، داده‌هایی است که شرکت یکتانت از وبسایت‌های مختلف جمع‌آوری کرده است. قصد داریم با بررسی آمار مشاهده‌ی کاربران از وب‌سایت‌ها، درصد شهرت وب‌سایت‌های فارسی با کلید‌واژه‌های پرکاربردتر را محاسبه و بررسی کنیم.\n",
    "</font>\n",
    "</p>\n"
   ]
  },
  {
   "attachments": {},
   "cell_type": "markdown",
   "id": "e76aae32",
   "metadata": {},
   "source": [
    "<h2 align=right style=\"line-height:200%;font-family:vazir;color:#0099cc\">\n",
    "<font face=\"vazirmatn\" color=\"#0099cc\">\n",
    "مجموعه‌داده\n",
    "</font>\n",
    "</h2>\n",
    "\n",
    "<p dir=rtl style=\"direction: rtl;text-align: justify;line-height:200%;font-family:vazir;font-size:medium\">\n",
    "<font face=\"vazirmatn\" size=3>\n",
    "داده‌های این تمرین از طریق فایل <code>yektanet.csv</code> در دسترس شما قرار گرفته است. ابتدا این فایل را خوانده و نگاهی به آن بیندازید. توضیح هرکدام از ستون‌های این مجموعه‌داده در جدول زیر آمده است:\n",
    "</font>\n",
    "</p>\n",
    "\n",
    "<center>\n",
    "<div dir=rtl style=\"direction: rtl;line-height:200%;font-family:vazir;font-size:medium\">\n",
    "<font face=\"vazirmatn\" size=3>\n",
    "\n",
    "| ستون | توضیح |\n",
    "| :---: | :---: |\n",
    "| `keywords` | کلیدواژه‌هایی که هر وب‌سایت با آن‌ها تعریف می‌شود و معمولاً در جست‌و‌جوها با آن موضوع نمایش داده می‌شود. |\n",
    "| `segments` | دسته‌بندی‌هایی که برای هر وب‌سایت در نظر می‌گیریم و برای تبلیغات استفاده می‌شوند. |\n",
    "| `visit count` | تعداد بازدیدهای متوسط صفحه در یک روز |\n",
    "\n",
    "</font>\n",
    "</div>\n",
    "</center>"
   ]
  },
  {
   "cell_type": "code",
   "execution_count": null,
   "id": "65ff8052",
   "metadata": {},
   "outputs": [],
   "source": [
    "import pandas as pd \n",
    "import numpy as np"
   ]
  },
  {
   "cell_type": "code",
   "execution_count": null,
   "id": "995dac76",
   "metadata": {},
   "outputs": [],
   "source": [
    "df = None # To-Do\n",
    "df.tail()"
   ]
  },
  {
   "attachments": {},
   "cell_type": "markdown",
   "id": "4d3fbe6b",
   "metadata": {},
   "source": [
    "<h2 align=right style=\"line-height:200%;font-family:vazir;color:#0099cc\">\n",
    "<font face=\"vazirmatn\" color=\"#0099cc\">\n",
    "    قسمت اول\n",
    "</font>\n",
    "</h2>\n",
    "\n",
    "<p dir=rtl style=\"direction: rtl;text-align: justify;line-height:200%;font-family:vazir;font-size:medium\">\n",
    "<font face=\"vazirmatn\" size=3>\n",
    "    با استفاده از گروه‌بندی و تابع <code>filter</code>، وب‌سایت‌هایی را انتخاب کنید که کلیدواژه‌ی مربوط به آن‌ها، بیشتر از ۱۴۰۰ وب‌سایت را شامل می‌شود. به بیان دیگر، آن لیست کلیدواژه بیش از ۱۴۰۰ بار در دیتافریم تکرار شده باشد. حاصل را در متغیر <code>filtered_df</code> ذخیره کنید.\n",
    "</font>\n",
    "</p>\n",
    "\n",
    "<p dir=rtl style=\"direction: rtl;text-align: justify;line-height:200%;font-family:vazir;font-size:medium\">\n",
    "<font face=\"vazirmatn\" size=3>\n",
    "<span style=\"color:green\"><b>راهنمایی:</b></span>\n",
    " ابتدا تابع <code>groupby</code> را برای کلید‌واژه‌ها اعمال کرده و سپس از از تابع <code>len</code> برای بررسی تعداد اعضا استفاده کنید. توجه کنید <b> لازم نیست </b>گروه‌بندی براساس هر عضو داخل آرایه‌ی کلیدواژه‌ها انجام شود.\n",
    "</font>\n",
    "</p>"
   ]
  },
  {
   "cell_type": "code",
   "execution_count": 1,
   "id": "1f051715-851e-4865-b14f-dfe975ec0b2b",
   "metadata": {},
   "outputs": [],
   "source": [
    "filtered_df = None # To-Do\n",
    "filtered_df"
   ]
  },
  {
   "attachments": {},
   "cell_type": "markdown",
   "id": "81e5af66",
   "metadata": {},
   "source": [
    "<h2 align=right style=\"line-height:200%;font-family:vazir;color:#0099cc\">\n",
    "<font face=\"vazirmatn\" color=\"#0099cc\">\n",
    "    قسمت دوم\n",
    "</font>\n",
    "</h2>\n",
    "\n",
    "<p dir=rtl style=\"direction: rtl;text-align: justify;line-height:200%;font-family:vazir;font-size:medium\">\n",
    "<font face=\"vazirmatn\" size=3>\n",
    "    اکنون ستونی به نام <code>popularity</code> را به دیتافریم <code>filtered_df</code> اضافه کنید که نسبت تعداد بازدید هر وب‌سایت به مجموع تعداد بازدید تمام وب‌سایت‌های آن کلیدواژه را شامل شود.\n",
    "</font>\n",
    "</p>\n",
    "\n",
    "<p dir=rtl style=\"direction: rtl;text-align: justify;line-height:200%;font-family:vazir;font-size:medium\">\n",
    "<font face=\"vazirmatn\" size=3>\n",
    "<span style=\"color:green\"><b>راهنمایی:</b></span>\n",
    "بعد از انجام گروه‌بندی بر اساس <code>keywords</code>، تابع <code>transfrom</code> را روی ستون <code>visit count</code> اعمال کرده و نسبت بازید هر وب‌سایت به مجموع بازدیدهای آن گروه کلیدواژه را محاسبه و در ۱۰۰ ضرب کنید.\n",
    "</font>\n",
    "</p>"
   ]
  },
  {
   "cell_type": "code",
   "execution_count": 5,
   "id": "a7ccd820-70b9-4d19-ad6e-36fe65c8c16b",
   "metadata": {},
   "outputs": [],
   "source": [
    "filtered_df['popularity']  = None # To-Do\n",
    "filtered_df"
   ]
  },
  {
   "attachments": {},
   "cell_type": "markdown",
   "id": "f42669a5-fb7f-4f64-acb8-e026fb310789",
   "metadata": {},
   "source": [
    "<h2 align=right style=\"line-height:200%;font-family:vazir;color:#0099cc\">\n",
    "<font face=\"vazirmatn\" color=\"#0099cc\">\n",
    "<b>سلول جواب‌ساز</b>\n",
    "</font>\n",
    "</h2>\n",
    "\n",
    "\n",
    "<p dir=rtl style=\"direction: rtl; text-align: justify; line-height:200%; font-family:vazir; font-size:medium\">\n",
    "<font face=\"vazirmatn\" size=3>\n",
    "    برای ساخته‌شدن فایل <code>result.zip</code> سلول زیر را اجرا کنید. توجه داشته باشید که پیش از اجرای سلول زیر تغییرات اعمال شده در نت‌بوک را ذخیره کرده باشید (<code>ctrl+s</code>) تا در صورت نیاز به پشتیبانی امکان بررسی کد شما وجود داشته باشد.\n",
    "</font>\n",
    "</p>"
   ]
  },
  {
   "cell_type": "code",
   "execution_count": null,
   "id": "6bc08279-93f4-4c56-bd9d-4e3d457ff6ad",
   "metadata": {},
   "outputs": [],
   "source": [
    "import zlib\n",
    "import zipfile\n",
    "\n",
    "filtered_df.to_csv('filtered_df.csv', index=True)\n",
    "\n",
    "def compress(file_names):\n",
    "    print(\"File Paths:\")\n",
    "    print(file_names)\n",
    "    compression = zipfile.ZIP_DEFLATED\n",
    "    with zipfile.ZipFile(\"result.zip\", mode=\"w\") as zf:\n",
    "        for file_name in file_names:\n",
    "            zf.write('./' + file_name, file_name, compress_type=compression)\n",
    "\n",
    "file_names = [\"filtered_df.csv\", \"yektanet.ipynb\"]\n",
    "compress(file_names)"
   ]
  }
 ],
 "metadata": {
  "kernelspec": {
   "display_name": "Python 3",
   "language": "python",
   "name": "python3"
  },
  "language_info": {
   "codemirror_mode": {
    "name": "ipython",
    "version": 3
   },
   "file_extension": ".py",
   "mimetype": "text/x-python",
   "name": "python",
   "nbconvert_exporter": "python",
   "pygments_lexer": "ipython3",
   "version": "3.8.0"
  },
  "vscode": {
   "interpreter": {
    "hash": "44e7e1b8fa2096bd5707ed7fd18b1724a2db25f4c565a7673f8b6e7bfc49d25d"
   }
  }
 },
 "nbformat": 4,
 "nbformat_minor": 5
}
