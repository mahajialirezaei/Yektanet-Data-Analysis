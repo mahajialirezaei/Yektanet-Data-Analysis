{
 "cells": [
  {
   "attachments": {},
   "cell_type": "markdown",
   "id": "ac1d21fa-520d-4a4c-9b26-7942fb833449",
   "metadata": {},
   "source": [
    "<h1 align=center style=\"line-height:200%;font-family:vazir;color:#0099cc\">\n",
    "<font face=\"vazirmatn\" color=\"#0099cc\">\n",
    "    یکتانت\n",
    "</font>\n",
    "</h1>\n",
    "\n",
    "<p dir=rtl style=\"direction: rtl;text-align: justify;line-height:200%;font-family:vazir;font-size:medium\">\n",
    "<font face=\"vazirmatn\" size=3>\n",
    "داده‌هایی که در این تمرین استفاده می‌کنیم، داده‌هایی است که شرکت یکتانت از وبسایت‌های مختلف جمع‌آوری کرده است. قصد داریم با بررسی آمار مشاهده‌ی کاربران از وب‌سایت‌ها، درصد شهرت وب‌سایت‌های فارسی با کلید‌واژه‌های پرکاربردتر را محاسبه و بررسی کنیم.\n",
    "</font>\n",
    "</p>\n"
   ]
  },
  {
   "attachments": {},
   "cell_type": "markdown",
   "id": "e76aae32",
   "metadata": {},
   "source": [
    "<h2 align=right style=\"line-height:200%;font-family:vazir;color:#0099cc\">\n",
    "<font face=\"vazirmatn\" color=\"#0099cc\">\n",
    "مجموعه‌داده\n",
    "</font>\n",
    "</h2>\n",
    "\n",
    "<p dir=rtl style=\"direction: rtl;text-align: justify;line-height:200%;font-family:vazir;font-size:medium\">\n",
    "<font face=\"vazirmatn\" size=3>\n",
    "داده‌های این تمرین از طریق فایل <code>yektanet.csv</code> در دسترس شما قرار گرفته است. ابتدا این فایل را خوانده و نگاهی به آن بیندازید. توضیح هرکدام از ستون‌های این مجموعه‌داده در جدول زیر آمده است:\n",
    "</font>\n",
    "</p>\n",
    "\n",
    "<center>\n",
    "<div dir=rtl style=\"direction: rtl;line-height:200%;font-family:vazir;font-size:medium\">\n",
    "<font face=\"vazirmatn\" size=3>\n",
    "\n",
    "| ستون | توضیح |\n",
    "| :---: | :---: |\n",
    "| `keywords` | کلیدواژه‌هایی که هر وب‌سایت با آن‌ها تعریف می‌شود و معمولاً در جست‌و‌جوها با آن موضوع نمایش داده می‌شود. |\n",
    "| `segments` | دسته‌بندی‌هایی که برای هر وب‌سایت در نظر می‌گیریم و برای تبلیغات استفاده می‌شوند. |\n",
    "| `visit count` | تعداد بازدیدهای متوسط صفحه در یک روز |\n",
    "\n",
    "</font>\n",
    "</div>\n",
    "</center>"
   ]
  },
  {
   "cell_type": "code",
   "execution_count": 46,
   "id": "65ff8052",
   "metadata": {},
   "outputs": [],
   "source": [
    "import pandas as pd \n",
    "import numpy as np"
   ]
  },
  {
   "cell_type": "code",
   "execution_count": 47,
   "id": "995dac76",
   "metadata": {},
   "outputs": [
    {
     "data": {
      "application/vnd.microsoft.datawrangler.viewer.v0+json": {
       "columns": [
        {
         "name": "index",
         "rawType": "int64",
         "type": "integer"
        },
        {
         "name": "keywords",
         "rawType": "object",
         "type": "string"
        },
        {
         "name": "segments",
         "rawType": "object",
         "type": "string"
        },
        {
         "name": "visit count",
         "rawType": "int64",
         "type": "integer"
        }
       ],
       "conversionMethod": "pd.DataFrame",
       "ref": "37c9d94f-e4a4-403e-ad9a-ecf46e7c73ec",
       "rows": [
        [
         "219614",
         "['نتایج زنده', 'نتایج', 'زنده']",
         "['maleSegment', 'varzeshi']",
         "641"
        ],
        [
         "219615",
         "['زیرنویس', 'فارسی فیلم', 'دانلود زیرنویس']",
         "['femaleSegment']",
         "355"
        ],
        [
         "219616",
         "['سامان', 'ساعت']",
         "['femaleSegment']",
         "40"
        ],
        [
         "219617",
         "['چشم', 'تنظیم', 'رنگ', 'نرم']",
         "['technology']",
         "523"
        ],
        [
         "219618",
         "['خارجی', 'قوی', 'ایرانی خارجی', 'ایرانی']",
         "['femaleSegment']",
         "906"
        ]
       ],
       "shape": {
        "columns": 3,
        "rows": 5
       }
      },
      "text/html": [
       "<div>\n",
       "<style scoped>\n",
       "    .dataframe tbody tr th:only-of-type {\n",
       "        vertical-align: middle;\n",
       "    }\n",
       "\n",
       "    .dataframe tbody tr th {\n",
       "        vertical-align: top;\n",
       "    }\n",
       "\n",
       "    .dataframe thead th {\n",
       "        text-align: right;\n",
       "    }\n",
       "</style>\n",
       "<table border=\"1\" class=\"dataframe\">\n",
       "  <thead>\n",
       "    <tr style=\"text-align: right;\">\n",
       "      <th></th>\n",
       "      <th>keywords</th>\n",
       "      <th>segments</th>\n",
       "      <th>visit count</th>\n",
       "    </tr>\n",
       "  </thead>\n",
       "  <tbody>\n",
       "    <tr>\n",
       "      <th>219614</th>\n",
       "      <td>['نتایج زنده', 'نتایج', 'زنده']</td>\n",
       "      <td>['maleSegment', 'varzeshi']</td>\n",
       "      <td>641</td>\n",
       "    </tr>\n",
       "    <tr>\n",
       "      <th>219615</th>\n",
       "      <td>['زیرنویس', 'فارسی فیلم', 'دانلود زیرنویس']</td>\n",
       "      <td>['femaleSegment']</td>\n",
       "      <td>355</td>\n",
       "    </tr>\n",
       "    <tr>\n",
       "      <th>219616</th>\n",
       "      <td>['سامان', 'ساعت']</td>\n",
       "      <td>['femaleSegment']</td>\n",
       "      <td>40</td>\n",
       "    </tr>\n",
       "    <tr>\n",
       "      <th>219617</th>\n",
       "      <td>['چشم', 'تنظیم', 'رنگ', 'نرم']</td>\n",
       "      <td>['technology']</td>\n",
       "      <td>523</td>\n",
       "    </tr>\n",
       "    <tr>\n",
       "      <th>219618</th>\n",
       "      <td>['خارجی', 'قوی', 'ایرانی خارجی', 'ایرانی']</td>\n",
       "      <td>['femaleSegment']</td>\n",
       "      <td>906</td>\n",
       "    </tr>\n",
       "  </tbody>\n",
       "</table>\n",
       "</div>"
      ],
      "text/plain": [
       "                                           keywords  \\\n",
       "219614              ['نتایج زنده', 'نتایج', 'زنده']   \n",
       "219615  ['زیرنویس', 'فارسی فیلم', 'دانلود زیرنویس']   \n",
       "219616                            ['سامان', 'ساعت']   \n",
       "219617               ['چشم', 'تنظیم', 'رنگ', 'نرم']   \n",
       "219618   ['خارجی', 'قوی', 'ایرانی خارجی', 'ایرانی']   \n",
       "\n",
       "                           segments  visit count  \n",
       "219614  ['maleSegment', 'varzeshi']          641  \n",
       "219615            ['femaleSegment']          355  \n",
       "219616            ['femaleSegment']           40  \n",
       "219617               ['technology']          523  \n",
       "219618            ['femaleSegment']          906  "
      ]
     },
     "execution_count": 47,
     "metadata": {},
     "output_type": "execute_result"
    }
   ],
   "source": [
    "df = pd.read_csv('yektanet.csv')\n",
    "df.tail()"
   ]
  },
  {
   "attachments": {},
   "cell_type": "markdown",
   "id": "4d3fbe6b",
   "metadata": {},
   "source": [
    "<h2 align=right style=\"line-height:200%;font-family:vazir;color:#0099cc\">\n",
    "<font face=\"vazirmatn\" color=\"#0099cc\">\n",
    "    قسمت اول\n",
    "</font>\n",
    "</h2>\n",
    "\n",
    "<p dir=rtl style=\"direction: rtl;text-align: justify;line-height:200%;font-family:vazir;font-size:medium\">\n",
    "<font face=\"vazirmatn\" size=3>\n",
    "    با استفاده از گروه‌بندی و تابع <code>filter</code>، وب‌سایت‌هایی را انتخاب کنید که کلیدواژه‌ی مربوط به آن‌ها، بیشتر از ۱۴۰۰ وب‌سایت را شامل می‌شود. به بیان دیگر، آن لیست کلیدواژه بیش از ۱۴۰۰ بار در دیتافریم تکرار شده باشد. حاصل را در متغیر <code>filtered_df</code> ذخیره کنید.\n",
    "</font>\n",
    "</p>\n",
    "\n",
    "<p dir=rtl style=\"direction: rtl;text-align: justify;line-height:200%;font-family:vazir;font-size:medium\">\n",
    "<font face=\"vazirmatn\" size=3>\n",
    "<span style=\"color:green\"><b>راهنمایی:</b></span>\n",
    " ابتدا تابع <code>groupby</code> را برای کلید‌واژه‌ها اعمال کرده و سپس از از تابع <code>len</code> برای بررسی تعداد اعضا استفاده کنید. توجه کنید <b> لازم نیست </b>گروه‌بندی براساس هر عضو داخل آرایه‌ی کلیدواژه‌ها انجام شود.\n",
    "</font>\n",
    "</p>"
   ]
  },
  {
   "cell_type": "code",
   "execution_count": 48,
   "id": "1f051715-851e-4865-b14f-dfe975ec0b2b",
   "metadata": {},
   "outputs": [
    {
     "name": "stdout",
     "output_type": "stream",
     "text": [
      "                               keywords                     segments  \\\n",
      "1       ['نتایج زنده', 'نتایج', 'زنده']              ['maleSegment']   \n",
      "3       ['نتایج زنده', 'نتایج', 'زنده']              ['maleSegment']   \n",
      "4       ['نتایج زنده', 'نتایج', 'زنده']              ['maleSegment']   \n",
      "10      ['نتایج زنده', 'نتایج', 'زنده']  ['maleSegment', 'varzeshi']   \n",
      "16      ['نتایج زنده', 'نتایج', 'زنده']              ['maleSegment']   \n",
      "...                                 ...                          ...   \n",
      "219597  ['صفحه اخبار', 'صفحه', 'اخبار']              ['maleSegment']   \n",
      "219601  ['نتایج زنده', 'نتایج', 'زنده']              ['maleSegment']   \n",
      "219608  ['نتایج زنده', 'نتایج', 'زنده']       ['salamat', 'laghari']   \n",
      "219612  ['نتایج زنده', 'نتایج', 'زنده']              ['maleSegment']   \n",
      "219614  ['نتایج زنده', 'نتایج', 'زنده']  ['maleSegment', 'varzeshi']   \n",
      "\n",
      "        visit count  \n",
      "1               822  \n",
      "3               307  \n",
      "4               778  \n",
      "10              418  \n",
      "16              324  \n",
      "...             ...  \n",
      "219597          669  \n",
      "219601          742  \n",
      "219608          472  \n",
      "219612          460  \n",
      "219614          641  \n",
      "\n",
      "[24247 rows x 3 columns]\n"
     ]
    }
   ],
   "source": [
    "filtered_df = df.groupby('keywords').filter(lambda x: len(x) > 1400)\n",
    "print(filtered_df)"
   ]
  },
  {
   "attachments": {},
   "cell_type": "markdown",
   "id": "81e5af66",
   "metadata": {},
   "source": [
    "<h2 align=right style=\"line-height:200%;font-family:vazir;color:#0099cc\">\n",
    "<font face=\"vazirmatn\" color=\"#0099cc\">\n",
    "    قسمت دوم\n",
    "</font>\n",
    "</h2>\n",
    "\n",
    "<p dir=rtl style=\"direction: rtl;text-align: justify;line-height:200%;font-family:vazir;font-size:medium\">\n",
    "<font face=\"vazirmatn\" size=3>\n",
    "    اکنون ستونی به نام <code>popularity</code> را به دیتافریم <code>filtered_df</code> اضافه کنید که نسبت تعداد بازدید هر وب‌سایت به مجموع تعداد بازدید تمام وب‌سایت‌های آن کلیدواژه را شامل شود.\n",
    "</font>\n",
    "</p>\n",
    "\n",
    "<p dir=rtl style=\"direction: rtl;text-align: justify;line-height:200%;font-family:vazir;font-size:medium\">\n",
    "<font face=\"vazirmatn\" size=3>\n",
    "<span style=\"color:green\"><b>راهنمایی:</b></span>\n",
    "بعد از انجام گروه‌بندی بر اساس <code>keywords</code>، تابع <code>transfrom</code> را روی ستون <code>visit count</code> اعمال کرده و نسبت بازید هر وب‌سایت به مجموع بازدیدهای آن گروه کلیدواژه را محاسبه و در ۱۰۰ ضرب کنید.\n",
    "</font>\n",
    "</p>"
   ]
  },
  {
   "cell_type": "code",
   "execution_count": 49,
   "id": "a7ccd820-70b9-4d19-ad6e-36fe65c8c16b",
   "metadata": {},
   "outputs": [
    {
     "data": {
      "application/vnd.microsoft.datawrangler.viewer.v0+json": {
       "columns": [
        {
         "name": "index",
         "rawType": "int64",
         "type": "integer"
        },
        {
         "name": "keywords",
         "rawType": "object",
         "type": "string"
        },
        {
         "name": "segments",
         "rawType": "object",
         "type": "string"
        },
        {
         "name": "visit count",
         "rawType": "int64",
         "type": "integer"
        },
        {
         "name": "popularity",
         "rawType": "float64",
         "type": "float"
        }
       ],
       "conversionMethod": "pd.DataFrame",
       "ref": "b1aa0f03-c075-4b41-8743-eb7bc46ee600",
       "rows": [
        [
         "1",
         "['نتایج زنده', 'نتایج', 'زنده']",
         "['maleSegment']",
         "822",
         "0.00016966231420222178"
        ],
        [
         "3",
         "['نتایج زنده', 'نتایج', 'زنده']",
         "['maleSegment']",
         "307",
         "6.336536552321422e-05"
        ],
        [
         "4",
         "['نتایج زنده', 'نتایج', 'زنده']",
         "['maleSegment']",
         "778",
         "0.00016058063315003475"
        ],
        [
         "10",
         "['نتایج زنده', 'نتایج', 'زنده']",
         "['maleSegment', 'varzeshi']",
         "418",
         "8.627596999577702e-05"
        ],
        [
         "16",
         "['نتایج زنده', 'نتایج', 'زنده']",
         "['maleSegment']",
         "324",
         "6.687419683883195e-05"
        ]
       ],
       "shape": {
        "columns": 4,
        "rows": 5
       }
      },
      "text/html": [
       "<div>\n",
       "<style scoped>\n",
       "    .dataframe tbody tr th:only-of-type {\n",
       "        vertical-align: middle;\n",
       "    }\n",
       "\n",
       "    .dataframe tbody tr th {\n",
       "        vertical-align: top;\n",
       "    }\n",
       "\n",
       "    .dataframe thead th {\n",
       "        text-align: right;\n",
       "    }\n",
       "</style>\n",
       "<table border=\"1\" class=\"dataframe\">\n",
       "  <thead>\n",
       "    <tr style=\"text-align: right;\">\n",
       "      <th></th>\n",
       "      <th>keywords</th>\n",
       "      <th>segments</th>\n",
       "      <th>visit count</th>\n",
       "      <th>popularity</th>\n",
       "    </tr>\n",
       "  </thead>\n",
       "  <tbody>\n",
       "    <tr>\n",
       "      <th>1</th>\n",
       "      <td>['نتایج زنده', 'نتایج', 'زنده']</td>\n",
       "      <td>['maleSegment']</td>\n",
       "      <td>822</td>\n",
       "      <td>0.000170</td>\n",
       "    </tr>\n",
       "    <tr>\n",
       "      <th>3</th>\n",
       "      <td>['نتایج زنده', 'نتایج', 'زنده']</td>\n",
       "      <td>['maleSegment']</td>\n",
       "      <td>307</td>\n",
       "      <td>0.000063</td>\n",
       "    </tr>\n",
       "    <tr>\n",
       "      <th>4</th>\n",
       "      <td>['نتایج زنده', 'نتایج', 'زنده']</td>\n",
       "      <td>['maleSegment']</td>\n",
       "      <td>778</td>\n",
       "      <td>0.000161</td>\n",
       "    </tr>\n",
       "    <tr>\n",
       "      <th>10</th>\n",
       "      <td>['نتایج زنده', 'نتایج', 'زنده']</td>\n",
       "      <td>['maleSegment', 'varzeshi']</td>\n",
       "      <td>418</td>\n",
       "      <td>0.000086</td>\n",
       "    </tr>\n",
       "    <tr>\n",
       "      <th>16</th>\n",
       "      <td>['نتایج زنده', 'نتایج', 'زنده']</td>\n",
       "      <td>['maleSegment']</td>\n",
       "      <td>324</td>\n",
       "      <td>0.000067</td>\n",
       "    </tr>\n",
       "  </tbody>\n",
       "</table>\n",
       "</div>"
      ],
      "text/plain": [
       "                           keywords                     segments  visit count  \\\n",
       "1   ['نتایج زنده', 'نتایج', 'زنده']              ['maleSegment']          822   \n",
       "3   ['نتایج زنده', 'نتایج', 'زنده']              ['maleSegment']          307   \n",
       "4   ['نتایج زنده', 'نتایج', 'زنده']              ['maleSegment']          778   \n",
       "10  ['نتایج زنده', 'نتایج', 'زنده']  ['maleSegment', 'varzeshi']          418   \n",
       "16  ['نتایج زنده', 'نتایج', 'زنده']              ['maleSegment']          324   \n",
       "\n",
       "    popularity  \n",
       "1     0.000170  \n",
       "3     0.000063  \n",
       "4     0.000161  \n",
       "10    0.000086  \n",
       "16    0.000067  "
      ]
     },
     "execution_count": 49,
     "metadata": {},
     "output_type": "execute_result"
    }
   ],
   "source": [
    "grouped = df.groupby('keywords')['visit count']\n",
    "filtered_df['popularity']  = grouped.transform(lambda x: (x /x.sum()) * 100)\n",
    "filtered_df.head()"
   ]
  },
  {
   "attachments": {},
   "cell_type": "markdown",
   "id": "f42669a5-fb7f-4f64-acb8-e026fb310789",
   "metadata": {},
   "source": [
    "<h2 align=right style=\"line-height:200%;font-family:vazir;color:#0099cc\">\n",
    "<font face=\"vazirmatn\" color=\"#0099cc\">\n",
    "<b>سلول جواب‌ساز</b>\n",
    "</font>\n",
    "</h2>\n",
    "\n",
    "\n",
    "<p dir=rtl style=\"direction: rtl; text-align: justify; line-height:200%; font-family:vazir; font-size:medium\">\n",
    "<font face=\"vazirmatn\" size=3>\n",
    "    برای ساخته‌شدن فایل <code>result.zip</code> سلول زیر را اجرا کنید. توجه داشته باشید که پیش از اجرای سلول زیر تغییرات اعمال شده در نت‌بوک را ذخیره کرده باشید (<code>ctrl+s</code>) تا در صورت نیاز به پشتیبانی امکان بررسی کد شما وجود داشته باشد.\n",
    "</font>\n",
    "</p>"
   ]
  },
  {
   "cell_type": "code",
   "execution_count": 50,
   "id": "6bc08279-93f4-4c56-bd9d-4e3d457ff6ad",
   "metadata": {},
   "outputs": [
    {
     "name": "stdout",
     "output_type": "stream",
     "text": [
      "File Paths:\n",
      "['filtered_df.csv', 'yektanet.ipynb']\n"
     ]
    }
   ],
   "source": [
    "import zlib\n",
    "import zipfile\n",
    "\n",
    "filtered_df.to_csv('filtered_df.csv', index=True)\n",
    "\n",
    "def compress(file_names):\n",
    "    print(\"File Paths:\")\n",
    "    print(file_names)\n",
    "    compression = zipfile.ZIP_DEFLATED\n",
    "    with zipfile.ZipFile(\"result.zip\", mode=\"w\") as zf:\n",
    "        for file_name in file_names:\n",
    "            zf.write('./' + file_name, file_name, compress_type=compression)\n",
    "\n",
    "file_names = [\"filtered_df.csv\", \"yektanet.ipynb\"]\n",
    "compress(file_names)"
   ]
  }
 ],
 "metadata": {
  "kernelspec": {
   "display_name": "base",
   "language": "python",
   "name": "python3"
  },
  "language_info": {
   "codemirror_mode": {
    "name": "ipython",
    "version": 3
   },
   "file_extension": ".py",
   "mimetype": "text/x-python",
   "name": "python",
   "nbconvert_exporter": "python",
   "pygments_lexer": "ipython3",
   "version": "3.12.7"
  }
 },
 "nbformat": 4,
 "nbformat_minor": 5
}
