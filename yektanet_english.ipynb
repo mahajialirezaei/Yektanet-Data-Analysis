{
  "cells": [
    {
      "attachments": {},
      "cell_type": "markdown",
      "id": "ac1d21fa-520d-4a4c-9b26-7942fb833449",
      "metadata": {},
      "source": [
        "<h1 align=center style=\"line-height:200%;font-family:vazir;color:#0099cc\">\n",
        "<font face=\"vazirmatn\" color=\"#0099cc\">\n",
        "Yektanet\n",
        "</font>\n",
        "</h1>\n",
        "\n",
        "<p dir=rtl style=\"direction: rtl;text-align: justify;line-height:200%;font-family:vazir;font-size:medium\">\n",
        "<font face=\"vazirmatn\" size=3>\n",
        "The data used in this exercise is data that Yektanet has collected from various websites. We aim to analyze user visit statistics from websites, calculate and examine the percentage of popularity of Persian websites with the most frequently used keywords.\n",
        "</font>\n",
        "</p>\n"
      ]
    },
    {
      "attachments": {},
      "cell_type": "markdown",
      "id": "e76aae32",
      "metadata": {},
      "source": [
        "<h2 align=right style=\"line-height:200%;font-family:vazir;color:#0099cc\">\n",
        "<font face=\"vazirmatn\" color=\"#0099cc\">\n",
        "Dataset\n",
        "</font>\n",
        "</h2>\n",
        "\n",
        "<p dir=rtl style=\"direction: rtl;text-align: justify;line-height:200%;font-family:vazir;font-size:medium\">\n",
        "<font face=\"vazirmatn\" size=3>\n",
        "The data for this exercise is available in the file <code>yektanet.csv</code> is provided for you. First, read this file and take a look at it. Description of each of the Columns of this Dataset is given in the following table:\n",
        "</font>\n",
        "</p>\n",
        "\n",
        "<center>\n",
        "<div dir=rtl style=\"direction: rtl;line-height:200%;font-family:vazir;font-size:medium\">\n",
        "<font face=\"vazirmatn\" size=3>\n",
        "\n",
        "| Column | Description |\n",
        "| :---: | :---: |\n",
        "| `keywords` | Keywords that define each website and are usually displayed in searches with that topic. |\n",
        "| `segments` | Categories assigned to each website and are used for advertising. |\n",
        "| `visit count` | Average daily page visits |\n",
        "\n",
        "</font>\n",
        "</div>\n",
        "</center>"
      ]
    },
    {
      "cell_type": "code",
      "execution_count": 3,
      "id": "65ff8052",
      "metadata": {},
      "outputs": [],
      "source": [
        "import pandas as pd \n",
        "import numpy as np"
      ]
    },
    {
      "cell_type": "code",
      "execution_count": 4,
      "id": "995dac76",
      "metadata": {},
      "outputs": [
        {
          "data": {
            "application/vnd.microsoft.datawrangler.viewer.v0+json": {
              "columns": [
                {
                  "name": "index",
                  "rawType": "int64",
                  "type": "integer"
                },
                {
                  "name": "keywords",
                  "rawType": "object",
                  "type": "string"
                },
                {
                  "name": "segments",
                  "rawType": "object",
                  "type": "string"
                },
                {
                  "name": "visit count",
                  "rawType": "int64",
                  "type": "integer"
                }
              ],
              "conversionMethod": "pd.DataFrame",
              "ref": "5729baef-b20c-4e16-872b-436c1cfd5d80",
              "rows": [
                [
                  "219614",
                  "['نتایج زنده', 'نتایج', 'زنده']",
                  "['maleSegment', 'varzeshi']",
                  "641"
                ],
                [
                  "219615",
                  "['زیرنویس', 'فارسی فیلم', 'دانلود زیرنویس']",
                  "['femaleSegment']",
                  "355"
                ],
                [
                  "219616",
                  "['سامان', 'ساعت']",
                  "['femaleSegment']",
                  "40"
                ],
                [
                  "219617",
                  "['چشم', 'تنظیم', 'رنگ', 'نرم']",
                  "['technology']",
                  "523"
                ],
                [
                  "219618",
                  "['خارجی', 'قوی', 'ایرانی خارجی', 'ایرانی']",
                  "['femaleSegment']",
                  "906"
                ]
              ],
              "shape": {
                "columns": 3,
                "rows": 5
              }
            },
            "text/html": [
              "<div>\n",
              "<style scoped>\n",
              "    .dataframe tbody tr th:only-of-type {\n",
              "        vertical-align: middle;\n",
              "    }\n",
              "\n",
              "    .dataframe tbody tr th {\n",
              "        vertical-align: top;\n",
              "    }\n",
              "\n",
              "    .dataframe thead th {\n",
              "        text-align: right;\n",
              "    }\n",
              "</style>\n",
              "<table border=\"1\" class=\"dataframe\">\n",
              "  <thead>\n",
              "    <tr style=\"text-align: right;\">\n",
              "      <th></th>\n",
              "      <th>keywords</th>\n",
              "      <th>segments</th>\n",
              "      <th>visit count</th>\n",
              "    </tr>\n",
              "  </thead>\n",
              "  <tbody>\n",
              "    <tr>\n",
              "      <th>219614</th>\n",
              "      <td>['نتایج زنده', 'نتایج', 'زنده']</td>\n",
              "      <td>['maleSegment', 'varzeshi']</td>\n",
              "      <td>641</td>\n",
              "    </tr>\n",
              "    <tr>\n",
              "      <th>219615</th>\n",
              "      <td>['زیرنویس', 'فارسی فیلم', 'دانلود زیرنویس']</td>\n",
              "      <td>['femaleSegment']</td>\n",
              "      <td>355</td>\n",
              "    </tr>\n",
              "    <tr>\n",
              "      <th>219616</th>\n",
              "      <td>['سامان', 'ساعت']</td>\n",
              "      <td>['femaleSegment']</td>\n",
              "      <td>40</td>\n",
              "    </tr>\n",
              "    <tr>\n",
              "      <th>219617</th>\n",
              "      <td>['چشم', 'تنظیم', 'رنگ', 'نرم']</td>\n",
              "      <td>['technology']</td>\n",
              "      <td>523</td>\n",
              "    </tr>\n",
              "    <tr>\n",
              "      <th>219618</th>\n",
              "      <td>['خارجی', 'قوی', 'ایرانی خارجی', 'ایرانی']</td>\n",
              "      <td>['femaleSegment']</td>\n",
              "      <td>906</td>\n",
              "    </tr>\n",
              "  </tbody>\n",
              "</table>\n",
              "</div>"
            ],
            "text/plain": [
              "                                           keywords  \\\n",
              "219614              ['نتایج زنده', 'نتایج', 'زنده']   \n",
              "219615  ['زیرنویس', 'فارسی فیلم', 'دانلود زیرنویس']   \n",
              "219616                            ['سامان', 'ساعت']   \n",
              "219617               ['چشم', 'تنظیم', 'رنگ', 'نرم']   \n",
              "219618   ['خارجی', 'قوی', 'ایرانی خارجی', 'ایرانی']   \n",
              "\n",
              "                           segments  visit count  \n",
              "219614  ['maleSegment', 'varzeshi']          641  \n",
              "219615            ['femaleSegment']          355  \n",
              "219616            ['femaleSegment']           40  \n",
              "219617               ['technology']          523  \n",
              "219618            ['femaleSegment']          906  "
            ]
          },
          "execution_count": 4,
          "metadata": {},
          "output_type": "execute_result"
        }
      ],
      "source": [
        "df = pd.read_csv('yektanet.csv')\n",
        "df.tail()"
      ]
    },
    {
      "attachments": {},
      "cell_type": "markdown",
      "id": "4d3fbe6b",
      "metadata": {},
      "source": [
        "<h2 align=right style=\"line-height:200%;font-family:vazir;color:#0099cc\">\n",
        "<font face=\"vazirmatn\" color=\"#0099cc\">\n",
        "part one\n",
        "</font>\n",
        "</h2>\n",
        "\n",
        "<p dir=rtl style=\"direction: rtl;text-align: justify;line-height:200%;font-family:vazir;font-size:medium\">\n",
        "<font face=\"vazirmatn\" size=3>\n",
        " Using grouping and the <code>filter</code> function, select websites whose keyword is found on more than 1400 websites. In other words, that keyword list is repeated more than 1400 times in the dataframe. Store the result in the <code>filtered_df</code> variable.\n",
        "</font>\n",
        "</p>\n",
        "\n",
        "<p dir=rtl style=\"direction: rtl;text-align: justify;line-height:200%;font-family:vazir;font-size:medium\">\n",
        "<font face=\"vazirmatn\" size=3>\n",
        "<span style=\"color:green\"><b>Hint:</b></span>\n",
        " First apply the <code>groupby</code> function to the keywords and then use the <code>len</code> function to check the number of members. Note that <b> it is not necessary</b> to group by each member in the keywords array.\n",
        "</font>\n",
        "</p>"
      ]
    },
    {
      "cell_type": "code",
      "execution_count": 5,
      "id": "1f051715-851e-4865-b14f-dfe975ec0b2b",
      "metadata": {},
      "outputs": [
        {
          "name": "stdout",
          "output_type": "stream",
          "text": [
            "                               keywords                     segments  \\\n",
            "1       ['نتایج زنده', 'نتایج', 'زنده']              ['maleSegment']   \n",
            "3       ['نتایج زنده', 'نتایج', 'زنده']              ['maleSegment']   \n",
            "4       ['نتایج زنده', 'نتایج', 'زنده']              ['maleSegment']   \n",
            "10      ['نتایج زنده', 'نتایج', 'زنده']  ['maleSegment', 'varzeshi']   \n",
            "16      ['نتایج زنده', 'نتایج', 'زنده']              ['maleSegment']   \n",
            "...                                 ...                          ...   \n",
            "219597  ['صفحه اخبار', 'صفحه', 'اخبار']              ['maleSegment']   \n",
            "219601  ['نتایج زنده', 'نتایج', 'زنده']              ['maleSegment']   \n",
            "219608  ['نتایج زنده', 'نتایج', 'زنده']       ['salamat', 'laghari']   \n",
            "219612  ['نتایج زنده', 'نتایج', 'زنده']              ['maleSegment']   \n",
            "219614  ['نتایج زنده', 'نتایج', 'زنده']  ['maleSegment', 'varzeshi']   \n",
            "\n",
            "        visit count  \n",
            "1               822  \n",
            "3               307  \n",
            "4               778  \n",
            "10              418  \n",
            "16              324  \n",
            "...             ...  \n",
            "219597          669  \n",
            "219601          742  \n",
            "219608          472  \n",
            "219612          460  \n",
            "219614          641  \n",
            "\n",
            "[24247 rows x 3 columns]\n"
          ]
        }
      ],
      "source": [
        "filtered_df = df.groupby('keywords').filter(lambda x: len(x) > 1400)\n",
        "print(filtered_df)"
      ]
    },
    {
      "attachments": {},
      "cell_type": "markdown",
      "id": "81e5af66",
      "metadata": {},
      "source": [
        "<h2 align=right style=\"line-height:200%;font-family:vazir;color:#0099cc\">\n",
        "<font face=\"vazirmatn\" color=\"#0099cc\">\n",
        " Part Two\n",
        "</font>\n",
        "</h2>\n",
        "\n",
        "<p dir=rtl style=\"direction: rtl;text-align: justify;line-height:200%;font-family:vazir;font-size:medium\">\n",
        "<font face=\"vazirmatn\" size=3>\n",
        " Now add a column called <code>popularity</code> to the <code>filtered_df</code> dataframe that shows the ratio of the number of Include the visits of each website in the total number of visits of all websites for that keyword.\n",
        "</font>\n",
        "</p>\n",
        "\n",
        "<p dir=rtl style=\"direction: rtl;text-align: justify;line-height:200%;font-family:vazir;font-size:medium\">\n",
        "<font face=\"vazirmatn\" size=3>\n",
        "<span style=\"color:green\"><b>Tips:</b></span>\n",
        "After grouping by <code>keywords</code>, apply the <code>transfrom</code> function to the <code>visit count</code> column and calculate the ratio of each website's visits to the total visits for that keyword group and multiply by 100.\n",
        "</font>\n",
        "</p>"
      ]
    },
    {
      "cell_type": "code",
      "execution_count": 6,
      "id": "a7ccd820-70b9-4d19-ad6e-36fe65c8c16b",
      "metadata": {},
      "outputs": [
        {
          "data": {
            "application/vnd.microsoft.datawrangler.viewer.v0+json": {
              "columns": [
                {
                  "name": "index",
                  "rawType": "int64",
                  "type": "integer"
                },
                {
                  "name": "keywords",
                  "rawType": "object",
                  "type": "string"
                },
                {
                  "name": "segments",
                  "rawType": "object",
                  "type": "string"
                },
                {
                  "name": "visit count",
                  "rawType": "int64",
                  "type": "integer"
                },
                {
                  "name": "popularity",
                  "rawType": "float64",
                  "type": "float"
                }
              ],
              "conversionMethod": "pd.DataFrame",
              "ref": "ddbd9816-158c-4977-a5e4-f9a296fdd5c8",
              "rows": [
                [
                  "1",
                  "['نتایج زنده', 'نتایج', 'زنده']",
                  "['maleSegment']",
                  "822",
                  "0.016966231420222178"
                ],
                [
                  "3",
                  "['نتایج زنده', 'نتایج', 'زنده']",
                  "['maleSegment']",
                  "307",
                  "0.006336536552321422"
                ],
                [
                  "4",
                  "['نتایج زنده', 'نتایج', 'زنده']",
                  "['maleSegment']",
                  "778",
                  "0.016058063315003476"
                ],
                [
                  "10",
                  "['نتایج زنده', 'نتایج', 'زنده']",
                  "['maleSegment', 'varzeshi']",
                  "418",
                  "0.008627596999577701"
                ],
                [
                  "16",
                  "['نتایج زنده', 'نتایج', 'زنده']",
                  "['maleSegment']",
                  "324",
                  "0.006687419683883195"
                ]
              ],
              "shape": {
                "columns": 4,
                "rows": 5
              }
            },
            "text/html": [
              "<div>\n",
              "<style scoped>\n",
              "    .dataframe tbody tr th:only-of-type {\n",
              "        vertical-align: middle;\n",
              "    }\n",
              "\n",
              "    .dataframe tbody tr th {\n",
              "        vertical-align: top;\n",
              "    }\n",
              "\n",
              "    .dataframe thead th {\n",
              "        text-align: right;\n",
              "    }\n",
              "</style>\n",
              "<table border=\"1\" class=\"dataframe\">\n",
              "  <thead>\n",
              "    <tr style=\"text-align: right;\">\n",
              "      <th></th>\n",
              "      <th>keywords</th>\n",
              "      <th>segments</th>\n",
              "      <th>visit count</th>\n",
              "      <th>popularity</th>\n",
              "    </tr>\n",
              "  </thead>\n",
              "  <tbody>\n",
              "    <tr>\n",
              "      <th>1</th>\n",
              "      <td>['نتایج زنده', 'نتایج', 'زنده']</td>\n",
              "      <td>['maleSegment']</td>\n",
              "      <td>822</td>\n",
              "      <td>0.016966</td>\n",
              "    </tr>\n",
              "    <tr>\n",
              "      <th>3</th>\n",
              "      <td>['نتایج زنده', 'نتایج', 'زنده']</td>\n",
              "      <td>['maleSegment']</td>\n",
              "      <td>307</td>\n",
              "      <td>0.006337</td>\n",
              "    </tr>\n",
              "    <tr>\n",
              "      <th>4</th>\n",
              "      <td>['نتایج زنده', 'نتایج', 'زنده']</td>\n",
              "      <td>['maleSegment']</td>\n",
              "      <td>778</td>\n",
              "      <td>0.016058</td>\n",
              "    </tr>\n",
              "    <tr>\n",
              "      <th>10</th>\n",
              "      <td>['نتایج زنده', 'نتایج', 'زنده']</td>\n",
              "      <td>['maleSegment', 'varzeshi']</td>\n",
              "      <td>418</td>\n",
              "      <td>0.008628</td>\n",
              "    </tr>\n",
              "    <tr>\n",
              "      <th>16</th>\n",
              "      <td>['نتایج زنده', 'نتایج', 'زنده']</td>\n",
              "      <td>['maleSegment']</td>\n",
              "      <td>324</td>\n",
              "      <td>0.006687</td>\n",
              "    </tr>\n",
              "  </tbody>\n",
              "</table>\n",
              "</div>"
            ],
            "text/plain": [
              "                           keywords                     segments  visit count  \\\n",
              "1   ['نتایج زنده', 'نتایج', 'زنده']              ['maleSegment']          822   \n",
              "3   ['نتایج زنده', 'نتایج', 'زنده']              ['maleSegment']          307   \n",
              "4   ['نتایج زنده', 'نتایج', 'زنده']              ['maleSegment']          778   \n",
              "10  ['نتایج زنده', 'نتایج', 'زنده']  ['maleSegment', 'varzeshi']          418   \n",
              "16  ['نتایج زنده', 'نتایج', 'زنده']              ['maleSegment']          324   \n",
              "\n",
              "    popularity  \n",
              "1     0.016966  \n",
              "3     0.006337  \n",
              "4     0.016058  \n",
              "10    0.008628  \n",
              "16    0.006687  "
            ]
          },
          "execution_count": 6,
          "metadata": {},
          "output_type": "execute_result"
        }
      ],
      "source": [
        "grouped = df.groupby('keywords')['visit count']\n",
        "filtered_df['popularity'] = grouped.transform(lambda x: (x /x.sum()) * 100)\n",
        "filtered_df.head()"
      ]
    },
    {
      "attachments": {},
      "cell_type": "markdown",
      "id": "f42669a5-fb7f-4f64-acb8-e026fb310789",
      "metadata": {},
      "source": [
        "<h2 align=right style=\"line-height:200%;font-family:vazir;color:#0099cc\">\n",
        "<font face=\"vazirmatn\" color=\"#0099cc\">\n",
        "<b>Answer cell</b>\n",
        "</font>\n",
        "</h2>\n",
        "\n",
        "\n",
        "<p dir=rtl style=\"direction: rtl; text-align: justify; line-height: 200%; font-family: vazir; font-size:medium\">\n",
        "<font face=\"vazirmatn\" size=3>\n",
        " Run the following cell to create the <code>result.zip</code> file. Note that before running the following cell, save the changes made in the netbook (<code>ctrl+s</code>) so that you can review your code if you need support.\n",
        "</font>\n",
        "</p>"
      ]
    },
    {
      "cell_type": "code",
      "execution_count": 7,
      "id": "6bc08279-93f4-4c56-bd9d-4e3d457ff6ad",
      "metadata": {},
      "outputs": [
        {
          "name": "stdout",
          "output_type": "stream",
          "text": [
            "File Paths:\n",
            "['filtered_df.csv', 'yektanet.ipynb']\n"
          ]
        }
      ],
      "source": [
        "import zlib\n",
        "import zipfile\n",
        "\n",
        "filtered_df.to_csv('filtered_df.csv', index=True)\n",
        "\n",
        "def compress(file_names):\n",
        "    print(\"File Paths:\")\n",
        "    print(file_names)\n",
        "    compression = zipfile.ZIP_DEFLATED\n",
        "    with zipfile.ZipFile(\"result.zip\", mode=\"w\") as zf:\n",
        "        for file_name in file_names:\n",
        "            zf.write('./' + file_name, file_name, compress_type=compression)\n",
        "\n",
        "file_names = [\"filtered_df.csv\", \"yektanet.ipynb\"]\n",
        "compress(file_names)"
      ]
    }
  ],
  "metadata": {
    "kernelspec": {
      "display_name": "base",
      "language": "python",
      "name": "python3"
    },
    "language_info": {
      "codemirror_mode": {
        "name": "ipython",
        "version": 3
      },
      "file_extension": ".py",
      "mimetype": "text/x-python",
      "name": "python",
      "nbconvert_exporter": "python",
      "pygments_lexer": "ipython3",
      "version": "3.12.7"
    }
  },
  "nbformat": 4,
  "nbformat_minor": 5
}
